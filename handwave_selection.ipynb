{
 "cells": [
  {
   "cell_type": "code",
   "execution_count": 38,
   "metadata": {},
   "outputs": [],
   "source": [
    "import numpy as np\n",
    "X = np.load('train_x_9_classes_fixed.npy')\n",
    "import pickle\n",
    "Y = pickle.load( open( \"train_label_9_classes_fixed.p\", \"rb\" ) )"
   ]
  },
  {
   "cell_type": "code",
   "execution_count": 39,
   "metadata": {},
   "outputs": [
    {
     "name": "stdout",
     "output_type": "stream",
     "text": [
      "650\n"
     ]
    }
   ],
   "source": [
    "c = 0 \n",
    "new_X = []\n",
    "new_Y = dict()\n",
    "for i in range(len(Y[1])):\n",
    "   \n",
    "    if(c==650):\n",
    "        break\n",
    "    \n",
    "    if(Y[1][i]!=22 and Y[1][i]!=49 and Y[1][i]!=30):\n",
    "        c+=1\n",
    "        new_X.append(X[i])\n",
    "        if(Y[1][i] in new_Y):\n",
    "            new_Y[Y[1][i] ]+=1\n",
    "        else:\n",
    "            new_Y[Y[1][i] ] = 0\n",
    "\n",
    "#     if(Y[1][i]==22):\n",
    "#         c+=1\n",
    "#         new_X.append(X[i])\n",
    "#         if(Y[1][i] in new_Y):\n",
    "#             new_Y[Y[1][i] ]+=1\n",
    "#         else:\n",
    "#             new_Y[Y[1][i] ] = 0\n",
    "\n",
    "print(c)"
   ]
  },
  {
   "cell_type": "code",
   "execution_count": 40,
   "metadata": {},
   "outputs": [
    {
     "data": {
      "text/plain": [
       "{0: 111, 6: 111, 7: 109, 8: 109, 9: 101, 26: 103}"
      ]
     },
     "execution_count": 40,
     "metadata": {},
     "output_type": "execute_result"
    }
   ],
   "source": [
    "new_Y"
   ]
  },
  {
   "cell_type": "code",
   "execution_count": 41,
   "metadata": {},
   "outputs": [
    {
     "data": {
      "text/plain": [
       "650"
      ]
     },
     "execution_count": 41,
     "metadata": {},
     "output_type": "execute_result"
    }
   ],
   "source": [
    "len(new_X)"
   ]
  },
  {
   "cell_type": "code",
   "execution_count": 42,
   "metadata": {},
   "outputs": [],
   "source": [
    "np.save('not_hand_waving.npy',np.array(new_X))\n",
    "# np.save('hand_waving.npy',np.array(new_X))"
   ]
  }
 ],
 "metadata": {
  "kernelspec": {
   "display_name": "Python 3",
   "language": "python",
   "name": "python3"
  },
  "language_info": {
   "codemirror_mode": {
    "name": "ipython",
    "version": 3
   },
   "file_extension": ".py",
   "mimetype": "text/x-python",
   "name": "python",
   "nbconvert_exporter": "python",
   "pygments_lexer": "ipython3",
   "version": "3.7.6"
  }
 },
 "nbformat": 4,
 "nbformat_minor": 4
}
