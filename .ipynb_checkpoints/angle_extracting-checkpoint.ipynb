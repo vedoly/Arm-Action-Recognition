{
 "cells": [
  {
   "cell_type": "code",
   "execution_count": 27,
   "metadata": {},
   "outputs": [],
   "source": [
    "import numpy as np\n",
    "X = np.load('hand_waving.npy')"
   ]
  },
  {
   "cell_type": "code",
   "execution_count": 28,
   "metadata": {},
   "outputs": [
    {
     "data": {
      "text/plain": [
       "648"
      ]
     },
     "execution_count": 28,
     "metadata": {},
     "output_type": "execute_result"
    }
   ],
   "source": [
    "len(X)"
   ]
  },
  {
   "cell_type": "code",
   "execution_count": 29,
   "metadata": {},
   "outputs": [
    {
     "data": {
      "text/plain": [
       "(648, 3, 300, 25, 1)"
      ]
     },
     "execution_count": 29,
     "metadata": {},
     "output_type": "execute_result"
    }
   ],
   "source": [
    "X.shape"
   ]
  },
  {
   "cell_type": "code",
   "execution_count": 30,
   "metadata": {},
   "outputs": [],
   "source": [
    "X = np.swapaxes(X,1,4)"
   ]
  },
  {
   "cell_type": "code",
   "execution_count": 31,
   "metadata": {},
   "outputs": [
    {
     "data": {
      "text/plain": [
       "(648, 300, 25, 3)"
      ]
     },
     "execution_count": 31,
     "metadata": {},
     "output_type": "execute_result"
    }
   ],
   "source": [
    "X = np.swapaxes(X,1,0)[0]\n",
    "X.shape"
   ]
  },
  {
   "cell_type": "code",
   "execution_count": 32,
   "metadata": {},
   "outputs": [],
   "source": [
    "test = X[554][100]"
   ]
  },
  {
   "cell_type": "code",
   "execution_count": 33,
   "metadata": {},
   "outputs": [],
   "source": [
    "import numpy as np\n",
    "import pylab as plt\n",
    "\n",
    "\n",
    "def skeletonPlot(arr):\n",
    "#     body = np.swapaxes(np.array([arr[0],arr[1],arr[20],arr[2],arr[3]]),0,1)\n",
    "    \n",
    "#     l_leg =   np.swapaxes(np.array([arr[19],arr[18],arr[17],arr[16],arr[0] ]),0,1)\n",
    "#     r_leg =  np.swapaxes(np.array([arr[15],arr[14],arr[13],arr[12],arr[0]]) ,0,1)\n",
    "    \n",
    "    l_arm =np.swapaxes( np.array([arr[20],arr[8],arr[9],arr[10] ] )   ,0,1)\n",
    "    r_arm = np.swapaxes( np.array([arr[20],arr[4],arr[5],arr[6]])    ,0,1)\n",
    "    \n",
    "#     l_arm =np.swapaxes( np.array([arr[20],arr[8],arr[9] ] )   ,0,1)\n",
    "#     r_arm = np.swapaxes( np.array([arr[20],arr[4],arr[5]])    ,0,1)\n",
    "    \n",
    "#     l_hand = np.swapaxes(np.array([arr[7],arr[21],arr[22]])    ,0,1)\n",
    "#     r_hand = np.swapaxes(np.array([arr[11],arr[23],arr[24]])  ,0,1)\n",
    "    \n",
    "#     head = np.swapaxes(np.array([arr[3]]),0,1) \n",
    "\n",
    "    fig, ax = plt.subplots()\n",
    "    ax.axis([-0.6, 0.6, -0.8, 0.8])\n",
    "#     ax.plot(body[0],body[2],'.-')\n",
    "#     ax.plot(l_leg[0],l_leg[2],'.-')\n",
    "#     ax.plot(r_leg[0],r_leg[2],'.-')\n",
    "    ax.plot(l_arm[0],l_arm[2],'.-')\n",
    "    ax.plot(r_arm[0],r_arm[2],'.-')\n",
    "#     ax.plot(l_hand[0],l_hand[2],'.')\n",
    "#     ax.plot(r_hand[0],r_hand[2],'.')\n",
    "#     ax.plot(head[0],head[2],'ro',markersize=15)\n",
    "    plt.show()\n",
    "    \n",
    "    \n",
    "    "
   ]
  },
  {
   "cell_type": "code",
   "execution_count": 55,
   "metadata": {},
   "outputs": [],
   "source": [
    "def onlyArm(arr):\n",
    "    return np.array([arr[8],arr[9], arr[10] , arr[4],arr[5],arr[6] ]).swapaxes(1,0)[[0,2]].swapaxes(1,0)"
   ]
  },
  {
   "cell_type": "code",
   "execution_count": 56,
   "metadata": {},
   "outputs": [],
   "source": [
    "def testtt(arr):\n",
    "    return np.array([arr[8],arr[9], arr[10] , arr[4],arr[5],arr[6] ])"
   ]
  },
  {
   "cell_type": "code",
   "execution_count": 60,
   "metadata": {},
   "outputs": [],
   "source": [
    "test2 = onlyArm(test)"
   ]
  },
  {
   "cell_type": "code",
   "execution_count": 62,
   "metadata": {},
   "outputs": [
    {
     "name": "stdout",
     "output_type": "stream",
     "text": [
      "[[ 0.10741576  0.2129308 ]\n",
      " [ 0.2014353  -0.04938315]\n",
      " [ 0.21365577 -0.30334297]\n",
      " [-0.16336484  0.21532914]\n",
      " [-0.22647941 -0.06946971]\n",
      " [-0.18230826 -0.3646139 ]]\n"
     ]
    }
   ],
   "source": [
    "print(test2)"
   ]
  },
  {
   "cell_type": "code",
   "execution_count": 70,
   "metadata": {},
   "outputs": [],
   "source": [
    "def norm(arr):\n",
    "    maxx = arr.max(axis=0)\n",
    "    minn = arr.min(axis=0)\n",
    "    rank = maxx-minn\n",
    "    return (arr-minn)/rank\n",
    "    \n",
    "    "
   ]
  },
  {
   "cell_type": "code",
   "execution_count": 72,
   "metadata": {},
   "outputs": [
    {
     "data": {
      "text/plain": [
       "(648, 300, 25, 3)"
      ]
     },
     "execution_count": 72,
     "metadata": {},
     "output_type": "execute_result"
    }
   ],
   "source": [
    "X.shape"
   ]
  },
  {
   "cell_type": "code",
   "execution_count": 75,
   "metadata": {},
   "outputs": [],
   "source": [
    "new_X = []\n",
    "for sample in X:\n",
    "    new_sample = []\n",
    "    for frame in sample:\n",
    "        new_sample.append ( (norm(onlyArm(frame)) ) )\n",
    "    new_X.append(np.array(new_sample))"
   ]
  },
  {
   "cell_type": "code",
   "execution_count": 77,
   "metadata": {},
   "outputs": [
    {
     "data": {
      "text/plain": [
       "(648, 300, 6, 2)"
      ]
     },
     "execution_count": 77,
     "metadata": {},
     "output_type": "execute_result"
    }
   ],
   "source": [
    "np.array(new_X).shape"
   ]
  },
  {
   "cell_type": "code",
   "execution_count": 78,
   "metadata": {},
   "outputs": [],
   "source": [
    "np.save(\"onlyarm_handwave.npy\",np.array(new_X) )"
   ]
  },
  {
   "cell_type": "code",
   "execution_count": 93,
   "metadata": {},
   "outputs": [],
   "source": [
    "import numpy as np\n",
    "import pylab as plt\n",
    "\n",
    "def new_plot(arr):\n",
    "\n",
    "\n",
    "\n",
    "\n",
    "    \n",
    "    l_arm =np.swapaxes( np.array([arr[0],arr[1],arr[2] ] )   ,0,1)\n",
    "    r_arm = np.swapaxes( np.array([arr[3],arr[4],arr[5]])    ,0,1)\n",
    "\n",
    "#     head = np.swapaxes(np.array([arr[3]]),0,1) \n",
    "\n",
    "    fig, ax = plt.subplots()\n",
    "    ax.axis([0, 1, 0, 1])\n",
    "#     ax.plot(body[0],body[2],'.-')\n",
    "#     ax.plot(l_leg[0],l_leg[2],'.-')\n",
    "#     ax.plot(r_leg[0],r_leg[2],'.-')\n",
    "    ax.plot(l_arm[0],l_arm[1],'.-')\n",
    "    ax.plot(r_arm[0],r_arm[1],'.-')\n",
    "#     ax.plot(l_hand[0],l_hand[2],'.')\n",
    "#     ax.plot(r_hand[0],r_hand[2],'.')\n",
    "#     ax.plot(head[0],head[2],'ro',markersize=15)\n",
    "    plt.show()\n",
    "    \n",
    "    \n",
    "    "
   ]
  },
  {
   "cell_type": "code",
   "execution_count": 94,
   "metadata": {},
   "outputs": [],
   "source": [
    "new_X = np.array(new_X)"
   ]
  },
  {
   "cell_type": "code",
   "execution_count": 97,
   "metadata": {},
   "outputs": [],
   "source": [
    "# for k in new_X:\n",
    "#     for c in k:\n",
    "#         new_plot(c)"
   ]
  }
 ],
 "metadata": {
  "kernelspec": {
   "display_name": "Python 3",
   "language": "python",
   "name": "python3"
  },
  "language_info": {
   "codemirror_mode": {
    "name": "ipython",
    "version": 3
   },
   "file_extension": ".py",
   "mimetype": "text/x-python",
   "name": "python",
   "nbconvert_exporter": "python",
   "pygments_lexer": "ipython3",
   "version": "3.7.6"
  }
 },
 "nbformat": 4,
 "nbformat_minor": 4
}
