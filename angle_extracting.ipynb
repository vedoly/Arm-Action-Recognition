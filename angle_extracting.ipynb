{
 "cells": [
  {
   "cell_type": "code",
   "execution_count": 14,
   "metadata": {},
   "outputs": [],
   "source": [
    "import numpy as np\n",
    "X = np.load('data/hand_waving.npy')\n",
    "Y = np.load('data/not_hand_waving.npy')"
   ]
  },
  {
   "cell_type": "code",
   "execution_count": 15,
   "metadata": {},
   "outputs": [
    {
     "data": {
      "text/plain": [
       "648"
      ]
     },
     "execution_count": 15,
     "metadata": {},
     "output_type": "execute_result"
    }
   ],
   "source": [
    "len(X)"
   ]
  },
  {
   "cell_type": "code",
   "execution_count": 16,
   "metadata": {},
   "outputs": [
    {
     "data": {
      "text/plain": [
       "(648, 3, 300, 25, 1)"
      ]
     },
     "execution_count": 16,
     "metadata": {},
     "output_type": "execute_result"
    }
   ],
   "source": [
    "X.shape"
   ]
  },
  {
   "cell_type": "code",
   "execution_count": 17,
   "metadata": {},
   "outputs": [],
   "source": [
    "X = np.swapaxes(X,1,4)\n",
    "\n",
    "Y = np.swapaxes(Y,1,4)"
   ]
  },
  {
   "cell_type": "code",
   "execution_count": 18,
   "metadata": {},
   "outputs": [
    {
     "data": {
      "text/plain": [
       "(648, 300, 25, 3)"
      ]
     },
     "execution_count": 18,
     "metadata": {},
     "output_type": "execute_result"
    }
   ],
   "source": [
    "X = np.swapaxes(X,1,0)[0]\n",
    "Y = np.swapaxes(Y,1,0)[0]\n",
    "X.shape"
   ]
  },
  {
   "cell_type": "code",
   "execution_count": 19,
   "metadata": {},
   "outputs": [],
   "source": [
    "def onlyArm(arr):\n",
    "    return np.array([arr[8],arr[9], arr[10] , arr[4],arr[5],arr[6] ]).swapaxes(1,0)[[0,2]].swapaxes(1,0)"
   ]
  },
  {
   "cell_type": "code",
   "execution_count": 22,
   "metadata": {},
   "outputs": [],
   "source": [
    "new_X = []\n",
    "for sample in X:\n",
    "    new_sample = []\n",
    "    for frame in sample:\n",
    "        new_sample.append ( (onlyArm(frame) ) ) \n",
    "    new_X.append(np.array(new_sample))\n",
    "#new_X = []\n",
    "# for sample in X:\n",
    "#     new_sample = []\n",
    "#     for frame in sample:\n",
    "#         new_sample.append ( (norm(onlyArm(frame)) ) )\n",
    "#     new_X.append(np.array(new_sample))"
   ]
  },
  {
   "cell_type": "code",
   "execution_count": 23,
   "metadata": {},
   "outputs": [],
   "source": [
    "new_Y = []\n",
    "for sample in Y:\n",
    "    new_sample = []\n",
    "    for frame in sample:\n",
    "        new_sample.append ( (onlyArm(frame) ) ) \n",
    "    new_Y.append(np.array(new_sample))\n",
    "#new_X = []\n",
    "# for sample in X:\n",
    "#     new_sample = []\n",
    "#     for frame in sample:\n",
    "#         new_sample.append ( (norm(onlyArm(frame)) ) )\n",
    "#     new_X.append(np.array(new_sample))"
   ]
  },
  {
   "cell_type": "code",
   "execution_count": 24,
   "metadata": {},
   "outputs": [
    {
     "data": {
      "text/plain": [
       "(648, 300, 6, 2)"
      ]
     },
     "execution_count": 24,
     "metadata": {},
     "output_type": "execute_result"
    }
   ],
   "source": [
    "np.array(new_X).shape"
   ]
  },
  {
   "cell_type": "code",
   "execution_count": 25,
   "metadata": {},
   "outputs": [
    {
     "data": {
      "text/plain": [
       "(650, 300, 6, 2)"
      ]
     },
     "execution_count": 25,
     "metadata": {},
     "output_type": "execute_result"
    }
   ],
   "source": [
    "np.array(new_Y).shape"
   ]
  },
  {
   "cell_type": "code",
   "execution_count": 26,
   "metadata": {},
   "outputs": [],
   "source": [
    "import numpy as np\n",
    "import pylab as plt\n",
    "\n",
    "def new_plot(arr):\n",
    "\n",
    "\n",
    "\n",
    "\n",
    "    \n",
    "    r_arm =np.swapaxes( np.array([arr[0],arr[1],arr[2] ] )   ,0,1)\n",
    "    l_arm = np.swapaxes( np.array([arr[3],arr[4],arr[5]])    ,0,1)\n",
    "    link = np.swapaxes( np.array([arr[0],arr[3]])    ,0,1)\n",
    "#     head = np.swapaxes(np.array([arr[3]]),0,1) \n",
    "\n",
    "    fig, ax = plt.subplots()\n",
    "    ax.axis([-1, 1, -1, 1])\n",
    "#     ax.plot(body[0],body[2],'.-')\n",
    "#     ax.plot(l_leg[0],l_leg[2],'.-')\n",
    "#     ax.plot(r_leg[0],r_leg[2],'.-')\n",
    "    ax.plot(l_arm[0],l_arm[1],'.-')\n",
    "    ax.plot(r_arm[0],r_arm[1],'.-')\n",
    "    ax.plot(link[0],link[1],'.-')\n",
    "#     ax.plot(l_hand[0],l_hand[2],'.')\n",
    "#     ax.plot(r_hand[0],r_hand[2],'.')\n",
    "#     ax.plot(head[0],head[2],'ro',markersize=15)\n",
    "    plt.show()\n",
    "    \n",
    "    \n",
    "    "
   ]
  },
  {
   "cell_type": "code",
   "execution_count": 27,
   "metadata": {},
   "outputs": [],
   "source": [
    "new_X = np.array(new_X)\n",
    "new_Y = np.array(new_Y)"
   ]
  },
  {
   "cell_type": "code",
   "execution_count": 28,
   "metadata": {},
   "outputs": [
    {
     "data": {
      "text/plain": [
       "array([[[[ 1.28880024e-01,  1.37259066e-01],\n",
       "         [ 1.43418297e-01, -6.04381412e-02],\n",
       "         [ 2.68182218e-01, -1.89494759e-01],\n",
       "         [-1.14795290e-01,  1.37259066e-01],\n",
       "         [-1.73345819e-01, -7.70787299e-02],\n",
       "         [-9.35745016e-02, -1.59753636e-01]],\n",
       "\n",
       "        [[ 1.28094003e-01,  1.37015745e-01],\n",
       "         [ 1.43927112e-01, -6.04907349e-02],\n",
       "         [ 2.69413173e-01, -1.88614473e-01],\n",
       "         [-1.15659542e-01,  1.36741772e-01],\n",
       "         [-1.72848508e-01, -7.50714764e-02],\n",
       "         [-9.52445045e-02, -1.58802375e-01]],\n",
       "\n",
       "        [[ 1.28298834e-01,  1.36334166e-01],\n",
       "         [ 1.51063979e-01, -4.22151387e-02],\n",
       "         [ 2.63331503e-01, -1.78134903e-01],\n",
       "         [-1.16204336e-01,  1.36958182e-01],\n",
       "         [-1.70151025e-01, -7.34208003e-02],\n",
       "         [-9.33192819e-02, -1.63374200e-01]],\n",
       "\n",
       "        ...,\n",
       "\n",
       "        [[ 1.06948726e-01,  1.82970196e-01],\n",
       "         [ 2.14096904e-01,  2.31129050e-01],\n",
       "         [ 3.21459472e-01,  3.92046750e-01],\n",
       "         [-1.01023085e-01,  1.44175127e-01],\n",
       "         [-1.45317465e-01, -6.54956549e-02],\n",
       "         [-8.08948427e-02, -1.61635175e-01]],\n",
       "\n",
       "        [[ 1.05295405e-01,  1.75728068e-01],\n",
       "         [ 2.32075125e-01,  2.28070542e-01],\n",
       "         [ 3.22095782e-01,  3.94125581e-01],\n",
       "         [-1.01580635e-01,  1.43562973e-01],\n",
       "         [-1.44433603e-01, -5.40362485e-02],\n",
       "         [-8.50988030e-02, -1.55174389e-01]],\n",
       "\n",
       "        [[ 1.02725305e-01,  1.50936380e-01],\n",
       "         [ 2.45840788e-01,  2.30983138e-01],\n",
       "         [ 2.97041982e-01,  4.11745757e-01],\n",
       "         [-9.82403532e-02,  1.47545338e-01],\n",
       "         [-1.41790330e-01, -4.69089411e-02],\n",
       "         [-8.50053579e-02, -1.53329551e-01]]],\n",
       "\n",
       "\n",
       "       [[[ 1.29390568e-01,  1.72273144e-01],\n",
       "         [ 1.29417002e-01, -7.50076771e-02],\n",
       "         [ 1.22966200e-01, -2.53305256e-01],\n",
       "         [-1.34222820e-01,  1.72273144e-01],\n",
       "         [-1.84226766e-01, -4.43018638e-02],\n",
       "         [-1.81878701e-01, -2.44308189e-01]],\n",
       "\n",
       "        [[ 1.30240530e-01,  1.71504796e-01],\n",
       "         [ 1.35045946e-01, -7.57387578e-02],\n",
       "         [ 1.30124167e-01, -2.69457966e-01],\n",
       "         [-1.34840742e-01,  1.71955511e-01],\n",
       "         [-1.85504451e-01, -4.57537770e-02],\n",
       "         [-1.85762599e-01, -2.39141881e-01]],\n",
       "\n",
       "        [[ 1.28915355e-01,  1.71616122e-01],\n",
       "         [ 1.38602078e-01, -7.60760680e-02],\n",
       "         [ 1.40537336e-01, -2.78712749e-01],\n",
       "         [-1.36670187e-01,  1.72401711e-01],\n",
       "         [-1.86068580e-01, -5.89303598e-02],\n",
       "         [-1.90029040e-01, -2.37175509e-01]],\n",
       "\n",
       "        ...,\n",
       "\n",
       "        [[ 1.25734106e-01,  1.74589500e-01],\n",
       "         [ 1.67919800e-01, -6.73080236e-02],\n",
       "         [ 1.87474772e-01, -3.01728547e-01],\n",
       "         [-1.40029520e-01,  1.73123911e-01],\n",
       "         [-1.98184118e-01, -3.60750668e-02],\n",
       "         [-2.04563841e-01, -2.34083951e-01]],\n",
       "\n",
       "        [[ 1.24225110e-01,  1.75807714e-01],\n",
       "         [ 1.68410033e-01, -6.49027675e-02],\n",
       "         [ 1.91079557e-01, -3.02584618e-01],\n",
       "         [-1.40121445e-01,  1.73176140e-01],\n",
       "         [-1.97250769e-01, -3.94537821e-02],\n",
       "         [-2.03383341e-01, -2.33412340e-01]],\n",
       "\n",
       "        [[ 1.23506881e-01,  1.77628443e-01],\n",
       "         [ 1.68657735e-01, -6.25815392e-02],\n",
       "         [ 1.93348601e-01, -3.03077132e-01],\n",
       "         [-1.40556410e-01,  1.72663108e-01],\n",
       "         [-1.93999127e-01, -4.70463634e-02],\n",
       "         [-2.03443781e-01, -2.33568966e-01]]],\n",
       "\n",
       "\n",
       "       [[[ 1.52021036e-01,  1.70138821e-01],\n",
       "         [ 2.16997787e-01, -4.72147092e-02],\n",
       "         [ 2.28950605e-01, -2.45075658e-01],\n",
       "         [-1.46111190e-01,  1.70138821e-01],\n",
       "         [-1.74089953e-01, -9.82446149e-02],\n",
       "         [-1.52261600e-01, -3.20311278e-01]],\n",
       "\n",
       "        [[ 1.52155101e-01,  1.70081660e-01],\n",
       "         [ 2.17506394e-01, -4.76120971e-02],\n",
       "         [ 2.29387641e-01, -2.45436385e-01],\n",
       "         [-1.45945892e-01,  1.70011565e-01],\n",
       "         [-1.74015626e-01, -9.83524844e-02],\n",
       "         [-1.71408474e-01, -2.98343539e-01]],\n",
       "\n",
       "        [[ 1.51096284e-01,  1.69863656e-01],\n",
       "         [ 2.17059612e-01, -4.74897809e-02],\n",
       "         [ 2.30047256e-01, -2.45281845e-01],\n",
       "         [-1.47052079e-01,  1.69659704e-01],\n",
       "         [-1.77354708e-01, -9.82502252e-02],\n",
       "         [-1.55057535e-01, -3.43074203e-01]],\n",
       "\n",
       "        ...,\n",
       "\n",
       "        [[ 1.17649868e-01,  1.87412918e-01],\n",
       "         [ 2.71628231e-01,  5.22700697e-02],\n",
       "         [ 2.58457392e-01,  4.53435816e-02],\n",
       "         [-1.56317770e-01,  1.50107831e-01],\n",
       "         [-1.05504796e-01, -1.14855252e-01],\n",
       "         [-1.77698195e-01, -3.23376805e-01]],\n",
       "\n",
       "        [[ 1.18964173e-01,  1.87387958e-01],\n",
       "         [ 2.65901625e-01,  4.10081111e-02],\n",
       "         [ 2.58633345e-01, -3.44504118e-02],\n",
       "         [-1.54918075e-01,  1.49180233e-01],\n",
       "         [-1.04130127e-01, -1.15779728e-01],\n",
       "         [-1.76331028e-01, -3.24294329e-01]],\n",
       "\n",
       "        [[ 1.14429936e-01,  1.74790233e-01],\n",
       "         [ 2.43415430e-01,  6.41291542e-03],\n",
       "         [ 2.44963109e-01, -1.09848447e-01],\n",
       "         [-1.59739867e-01,  1.52760446e-01],\n",
       "         [-1.09033272e-01, -1.12203896e-01],\n",
       "         [-1.81258544e-01, -3.20684880e-01]]],\n",
       "\n",
       "\n",
       "       ...,\n",
       "\n",
       "\n",
       "       [[[-2.09881384e-02,  1.43940732e-01],\n",
       "         [ 1.96987055e-02, -3.47062945e-02],\n",
       "         [ 3.79586481e-02, -2.50447065e-01],\n",
       "         [-1.03690058e-01,  1.43940732e-01],\n",
       "         [ 8.28784332e-02, -1.42057762e-02],\n",
       "         [ 1.65729329e-01, -1.82603627e-01]],\n",
       "\n",
       "        [[-2.27441583e-02,  1.42420366e-01],\n",
       "         [ 1.89975016e-02, -3.13280188e-02],\n",
       "         [ 3.90572436e-02, -2.44654462e-01],\n",
       "         [-9.92029756e-02,  1.46735922e-01],\n",
       "         [ 7.03250468e-02, -2.96917818e-02],\n",
       "         [ 1.66767254e-01, -1.92233816e-01]],\n",
       "\n",
       "        [[-2.65094824e-02,  1.41926244e-01],\n",
       "         [ 1.91368870e-02, -3.50784734e-02],\n",
       "         [ 4.12708409e-02, -2.50578940e-01],\n",
       "         [-9.63140279e-02,  1.50236949e-01],\n",
       "         [ 7.17813447e-02, -2.71510966e-02],\n",
       "         [ 1.68330267e-01, -1.89666823e-01]],\n",
       "\n",
       "        ...,\n",
       "\n",
       "        [[-2.46917084e-02,  1.48469731e-01],\n",
       "         [ 2.20368654e-02, -2.43493486e-02],\n",
       "         [ 4.63736691e-02, -2.37967715e-01],\n",
       "         [-6.98098838e-02,  1.68911621e-01],\n",
       "         [ 1.05868444e-01,  2.14372855e-03],\n",
       "         [ 1.99062556e-01, -1.66367054e-01]],\n",
       "\n",
       "        [[-2.41245404e-02,  1.49895400e-01],\n",
       "         [ 2.17912272e-02, -2.30977703e-02],\n",
       "         [ 4.62004691e-02, -2.36990497e-01],\n",
       "         [-7.58604929e-02,  1.63302675e-01],\n",
       "         [ 1.03500776e-01, -2.91645902e-05],\n",
       "         [ 1.85611978e-01, -1.74336210e-01]],\n",
       "\n",
       "        [[-2.33857073e-02,  1.50064871e-01],\n",
       "         [ 2.23412085e-02, -2.30046473e-02],\n",
       "         [ 5.21272458e-02, -2.17312247e-01],\n",
       "         [-7.79729038e-02,  1.61644325e-01],\n",
       "         [ 1.03731111e-01,  7.52002408e-04],\n",
       "         [ 1.82068452e-01, -1.75030351e-01]]],\n",
       "\n",
       "\n",
       "       [[[ 1.33774728e-01,  1.46847859e-01],\n",
       "         [ 1.77652985e-01, -7.97431320e-02],\n",
       "         [ 1.93774134e-01, -2.62922794e-01],\n",
       "         [-1.47544354e-01,  1.46847874e-01],\n",
       "         [-1.84581622e-01, -9.25908089e-02],\n",
       "         [-1.87675700e-01, -2.77291119e-01]],\n",
       "\n",
       "        [[ 1.37656659e-01,  1.50080770e-01],\n",
       "         [ 1.81287915e-01, -7.63226375e-02],\n",
       "         [ 1.97287202e-01, -2.59492993e-01],\n",
       "         [-1.44953772e-01,  1.48573399e-01],\n",
       "         [-1.82323858e-01, -9.19709280e-02],\n",
       "         [-1.83444202e-01, -2.80955493e-01]],\n",
       "\n",
       "        [[ 1.36919558e-01,  1.50222927e-01],\n",
       "         [ 1.80985466e-01, -7.54695535e-02],\n",
       "         [ 1.96959063e-01, -2.58780122e-01],\n",
       "         [-1.45433754e-01,  1.48613274e-01],\n",
       "         [-1.83155939e-01, -9.18907374e-02],\n",
       "         [-1.83726251e-01, -2.79833108e-01]],\n",
       "\n",
       "        ...,\n",
       "\n",
       "        [[ 1.36919558e-01,  1.50222927e-01],\n",
       "         [ 1.80985466e-01, -7.54695535e-02],\n",
       "         [ 1.96959063e-01, -2.58780122e-01],\n",
       "         [-1.45433754e-01,  1.48613274e-01],\n",
       "         [-1.83155939e-01, -9.18907374e-02],\n",
       "         [-1.83726251e-01, -2.79833108e-01]],\n",
       "\n",
       "        [[ 1.34982988e-01,  1.49540931e-01],\n",
       "         [ 1.78961813e-01, -7.64093995e-02],\n",
       "         [ 1.98636919e-01, -2.59949118e-01],\n",
       "         [-1.47488773e-01,  1.48607001e-01],\n",
       "         [-1.86040416e-01, -9.18362141e-02],\n",
       "         [-1.88568339e-01, -2.83113897e-01]],\n",
       "\n",
       "        [[ 1.33682713e-01,  1.50423959e-01],\n",
       "         [ 1.77769825e-01, -7.55676031e-02],\n",
       "         [ 1.95513308e-01, -2.59884357e-01],\n",
       "         [-1.49340317e-01,  1.47639945e-01],\n",
       "         [-1.87293112e-01, -9.09354240e-02],\n",
       "         [-1.92830294e-01, -2.86373645e-01]]],\n",
       "\n",
       "\n",
       "       [[[ 9.26056877e-02,  1.44484356e-01],\n",
       "         [ 9.06279609e-02, -3.12316809e-02],\n",
       "         [ 1.76450446e-01, -1.88553423e-01],\n",
       "         [-1.16766922e-01,  1.44484371e-01],\n",
       "         [-1.35296658e-01, -3.08655407e-02],\n",
       "         [-1.31333053e-01, -2.11593211e-01]],\n",
       "\n",
       "        [[ 9.85121652e-02,  1.32871523e-01],\n",
       "         [ 9.65390503e-02, -4.27728556e-02],\n",
       "         [ 1.82353020e-01, -2.00045899e-01],\n",
       "         [-1.19297147e-01,  1.42899171e-01],\n",
       "         [-1.37134612e-01, -3.24947089e-02],\n",
       "         [-1.32655025e-01, -2.13241532e-01]],\n",
       "\n",
       "        [[ 9.26785469e-02,  1.37834102e-01],\n",
       "         [ 9.07048136e-02, -3.78201157e-02],\n",
       "         [ 1.76504374e-01, -1.95096150e-01],\n",
       "         [-1.17732801e-01,  1.37678027e-01],\n",
       "         [-1.31158963e-01, -3.90854739e-02],\n",
       "         [-1.26932129e-01, -2.19733313e-01]],\n",
       "\n",
       "        ...,\n",
       "\n",
       "        [[ 1.36461005e-01,  1.11707799e-01],\n",
       "         [ 1.34370998e-01, -6.37936294e-02],\n",
       "         [ 2.20006287e-01, -2.20955119e-01],\n",
       "         [-1.14743665e-01,  1.28016368e-01],\n",
       "         [-1.21260360e-01,  1.14115648e-01],\n",
       "         [-8.10261965e-02,  1.99480399e-01]],\n",
       "\n",
       "        [[ 1.31232068e-01,  1.20559342e-01],\n",
       "         [ 1.29144743e-01, -5.49426414e-02],\n",
       "         [ 2.14781389e-01, -2.12103948e-01],\n",
       "         [-1.16658010e-01,  1.35346144e-01],\n",
       "         [-1.22577742e-01,  1.23266913e-01],\n",
       "         [-7.33842924e-02,  2.17986524e-01]],\n",
       "\n",
       "        [[ 1.18587449e-01,  1.32168487e-01],\n",
       "         [ 1.16505370e-01, -4.33649309e-02],\n",
       "         [ 2.02144936e-01, -2.00544372e-01],\n",
       "         [-1.14490651e-01,  1.36444062e-01],\n",
       "         [-9.32124704e-02,  1.59745097e-01],\n",
       "         [-4.49543521e-02,  2.38068119e-01]]]], dtype=float32)"
      ]
     },
     "execution_count": 28,
     "metadata": {},
     "output_type": "execute_result"
    }
   ],
   "source": [
    "new_X"
   ]
  },
  {
   "cell_type": "code",
   "execution_count": 29,
   "metadata": {
    "scrolled": true
   },
   "outputs": [
    {
     "name": "stdout",
     "output_type": "stream",
     "text": [
      "[ 91.11346   88.54461  359.9026    76.899704  89.923515]\n"
     ]
    },
    {
     "data": {
      "image/png": "[encoded data removed]",
      "text/plain": [
       "<Figure size 432x288 with 1 Axes>"
      ]
     },
     "metadata": {
      "needs_background": "light"
     },
     "output_type": "display_data"
    }
   ],
   "source": [
    "A = new_X[1][1]\n",
    "import numpy as np\n",
    "\n",
    "v = [\n",
    "    (A[0]-A[1]), (A[1]-A[2]) , (A[0]-A[3]), (A[3]-A[4]),(A[4]-A[5])\n",
    "]\n",
    "v = np.array(v)\n",
    "inv = np.degrees(np.arctan2(*v.T[::-1])) % 360.0\n",
    "print(inv)\n",
    "new_plot(A)"
   ]
  },
  {
   "cell_type": "code",
   "execution_count": 30,
   "metadata": {},
   "outputs": [],
   "source": [
    "def findAngleR(p0,p1,p2):\n",
    "    v0 = np.array(p0) - np.array(p1)\n",
    "    v1 = np.array(p2) - np.array(p1)\n",
    "    angle = np.math.atan2(np.linalg.det([v0,v1]),np.dot(v0,v1)) \n",
    "    return np.degrees(angle)%360"
   ]
  },
  {
   "cell_type": "code",
   "execution_count": 31,
   "metadata": {},
   "outputs": [],
   "source": [
    "def findAngleL(p0,p1,p2):\n",
    "    v0 = np.array(p0) - np.array(p1)\n",
    "    v1 = np.array(p2) - np.array(p1)\n",
    "    angle = np.math.atan2(np.linalg.det([v0,v1]),np.dot(v0,v1)) \n",
    "    return 360-np.degrees(angle)%360"
   ]
  },
  {
   "cell_type": "code",
   "execution_count": 40,
   "metadata": {
    "scrolled": true
   },
   "outputs": [
    {
     "name": "stdout",
     "output_type": "stream",
     "text": [
      "(648, 4, 300)\n",
      "(650, 4, 300)\n"
     ]
    }
   ],
   "source": [
    "X_angle = []\n",
    "Y_angle = []\n",
    "for A in new_X:\n",
    "\n",
    "\n",
    "    AngleA = np.zeros((4,300))\n",
    "    for i in range(len(A)):\n",
    "        c = A[i]\n",
    "        AngleA[0][i] = (findAngleR(c[3],c[4],c[5]))\n",
    "        AngleA[1][i] = (findAngleR(c[4],c[3],c[0]))\n",
    "        AngleA[2][i] = (findAngleL(c[1],c[0],c[3]))\n",
    "        AngleA[3][i] = (findAngleL(c[0],c[1],c[2]))\n",
    "    X_angle.append(AngleA)\n",
    "X_angle = np.array(X_angle)\n",
    "print(X_angle.shape)\n",
    "\n",
    "\n",
    "for B in new_Y:\n",
    "\n",
    "\n",
    "    AngleB = np.zeros((4,300))\n",
    "    for i in range(len(B)):\n",
    "        c = B[i]\n",
    "        AngleB[0][i] = (findAngleR(c[3],c[4],c[5]))\n",
    "        AngleB[1][i] = (findAngleR(c[4],c[3],c[0]))\n",
    "        AngleB[2][i] = (findAngleL(c[1],c[0],c[3]))\n",
    "        AngleB[3][i] = (findAngleL(c[0],c[1],c[2]))\n",
    "    Y_angle.append(AngleB)\n",
    "Y_angle = np.array(Y_angle)\n",
    "print(Y_angle.shape)\n",
    "# B = new_Y[2]\n",
    "# AngleB = [ [] for i in range(4)]\n",
    "# for c in B:\n",
    "#     AngleB[0].append(findAngleR(c[3],c[4],c[5]))\n",
    "#     AngleB[1].append(findAngleR(c[4],c[3],c[0]))\n",
    "#     AngleB[2].append(findAngleR(c[1],c[0],c[3]))\n",
    "#     AngleB[3].append(findAngleR(c[0],c[1],c[2]))\n",
    "\n",
    "\n",
    "# name = ['left elbow','left shoulder','right shoulder','right elbow']\n",
    "\n",
    "\n",
    "# for i in range(len(AngleA)):\n",
    "#     axes[i][0].title.set_text(name[i])\n",
    "#     axes[i][0].plot(AngleA[i])\n",
    "#     axes[i][0].set_ylim(0, 360)\n",
    "\n",
    "# for i in range(len(AngleB)):\n",
    "#     axes[i][1].title.set_text(name[i])\n",
    "#     axes[i][1].plot(AngleB[i])\n",
    "#     axes[i][1].set_ylim(0, 360)\n",
    "# f.savefig(\"somefile.png\")\n",
    "\n",
    "\n",
    "\n",
    "\n",
    "\n",
    "\n",
    "\n",
    "\n",
    "# import matplotlib\n",
    "# import matplotlib.pyplot as plt\n",
    "# import numpy as np\n",
    "\n",
    "# fig = plt.figure()\n",
    "# # plt.subplots_adjust(top = 3,bottom=1,hspace=1)\n",
    "# ax0 = plt.subplot(411)\n",
    "# ax1 = plt.subplot(412)\n",
    "# ax2 = plt.subplot(413)\n",
    "# ax3 = plt.subplot(414)\n",
    "# ax0.plot(AngleA[0], label='$y = numbers')\n",
    "# ax1.plot(AngleA[1], label='$y = numbers')\n",
    "# ax2.plot(AngleA[2],  label='$y = numbers')\n",
    "# ax3.plot(AngleA[3],  label='$y = numbers')\n",
    "# # plt.title('Legend inside')\n",
    "\n",
    "# plt.show()\n",
    "\n",
    "# fig.savefig('plot.png')"
   ]
  },
  {
   "cell_type": "code",
   "execution_count": null,
   "metadata": {},
   "outputs": [],
   "source": [
    "np.save('X_angle.npy',X_angle)\n",
    "np.save('X_angle.npy',X_angle)"
   ]
  },
  {
   "cell_type": "code",
   "execution_count": null,
   "metadata": {},
   "outputs": [],
   "source": [
    "for i in range"
   ]
  },
  {
   "cell_type": "code",
   "execution_count": 148,
   "metadata": {},
   "outputs": [],
   "source": [
    "# for k in new_X:\n",
    "#     for c in k:\n",
    "#         new_plot(c)"
   ]
  }
 ],
 "metadata": {
  "kernelspec": {
   "display_name": "Python 3",
   "language": "python",
   "name": "python3"
  },
  "language_info": {
   "codemirror_mode": {
    "name": "ipython",
    "version": 3
   },
   "file_extension": ".py",
   "mimetype": "text/x-python",
   "name": "python",
   "nbconvert_exporter": "python",
   "pygments_lexer": "ipython3",
   "version": "3.7.6"
  }
 },
 "nbformat": 4,
 "nbformat_minor": 4
}
