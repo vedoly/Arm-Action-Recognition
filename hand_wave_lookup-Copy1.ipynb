{
 "cells": [
  {
   "cell_type": "code",
   "execution_count": 3,
   "metadata": {},
   "outputs": [],
   "source": [
    "import numpy as np\n",
    "X = np.load('not_hand_waving.npy')"
   ]
  },
  {
   "cell_type": "code",
   "execution_count": 4,
   "metadata": {},
   "outputs": [
    {
     "data": {
      "text/plain": [
       "650"
      ]
     },
     "execution_count": 4,
     "metadata": {},
     "output_type": "execute_result"
    }
   ],
   "source": [
    "len(X)"
   ]
  },
  {
   "cell_type": "code",
   "execution_count": 5,
   "metadata": {},
   "outputs": [
    {
     "data": {
      "text/plain": [
       "(650, 3, 300, 25, 1)"
      ]
     },
     "execution_count": 5,
     "metadata": {},
     "output_type": "execute_result"
    }
   ],
   "source": [
    "X.shape"
   ]
  },
  {
   "cell_type": "code",
   "execution_count": 6,
   "metadata": {},
   "outputs": [],
   "source": [
    "X = np.swapaxes(X,1,4)"
   ]
  },
  {
   "cell_type": "code",
   "execution_count": 7,
   "metadata": {},
   "outputs": [
    {
     "data": {
      "text/plain": [
       "(650, 300, 25, 3)"
      ]
     },
     "execution_count": 7,
     "metadata": {},
     "output_type": "execute_result"
    }
   ],
   "source": [
    "X = np.swapaxes(X,1,0)[0]\n",
    "X.shape"
   ]
  },
  {
   "cell_type": "code",
   "execution_count": 8,
   "metadata": {},
   "outputs": [],
   "source": [
    "test = X[554][100]"
   ]
  },
  {
   "cell_type": "code",
   "execution_count": 9,
   "metadata": {},
   "outputs": [],
   "source": [
    "import numpy as np\n",
    "import pylab as plt\n",
    "\n",
    "\n",
    "def skeletonPlot(arr):\n",
    "#     body = np.swapaxes(np.array([arr[0],arr[1],arr[20],arr[2],arr[3]]),0,1)\n",
    "    \n",
    "#     l_leg =   np.swapaxes(np.array([arr[19],arr[18],arr[17],arr[16],arr[0] ]),0,1)\n",
    "#     r_leg =  np.swapaxes(np.array([arr[15],arr[14],arr[13],arr[12],arr[0]]) ,0,1)\n",
    "    \n",
    "    l_arm =np.swapaxes( np.array([arr[20],arr[8],arr[9],arr[10] ] )   ,0,1)\n",
    "    r_arm = np.swapaxes( np.array([arr[20],arr[4],arr[5],arr[6]])    ,0,1)\n",
    "    \n",
    "#     l_arm =np.swapaxes( np.array([arr[20],arr[8],arr[9] ] )   ,0,1)\n",
    "#     r_arm = np.swapaxes( np.array([arr[20],arr[4],arr[5]])    ,0,1)\n",
    "    \n",
    "#     l_hand = np.swapaxes(np.array([arr[7],arr[21],arr[22]])    ,0,1)\n",
    "#     r_hand = np.swapaxes(np.array([arr[11],arr[23],arr[24]])  ,0,1)\n",
    "    \n",
    "#     head = np.swapaxes(np.array([arr[3]]),0,1) \n",
    "\n",
    "    fig, ax = plt.subplots()\n",
    "    ax.axis([-0.6, 0.6, -0.8, 0.8])\n",
    "#     ax.plot(body[0],body[2],'.-')\n",
    "#     ax.plot(l_leg[0],l_leg[2],'.-')\n",
    "#     ax.plot(r_leg[0],r_leg[2],'.-')\n",
    "    ax.plot(l_arm[0],l_arm[2],'.-')\n",
    "    ax.plot(r_arm[0],r_arm[2],'.-')\n",
    "#     ax.plot(l_hand[0],l_hand[2],'.')\n",
    "#     ax.plot(r_hand[0],r_hand[2],'.')\n",
    "#     ax.plot(head[0],head[2],'ro',markersize=15)\n",
    "    plt.show()\n",
    "    \n",
    "    \n",
    "    "
   ]
  },
  {
   "cell_type": "code",
   "execution_count": 10,
   "metadata": {},
   "outputs": [],
   "source": [
    "def onlyArm(arr):\n",
    "    return np.array([arr[8],arr[9], arr[10] , arr[4],arr[5],arr[6] ]).swapaxes(1,0)[[0,2]].swapaxes(1,0)"
   ]
  },
  {
   "cell_type": "code",
   "execution_count": 11,
   "metadata": {},
   "outputs": [],
   "source": [
    "def testtt(arr):\n",
    "    return np.array([arr[8],arr[9], arr[10] , arr[4],arr[5],arr[6] ])"
   ]
  },
  {
   "cell_type": "code",
   "execution_count": 12,
   "metadata": {},
   "outputs": [],
   "source": [
    "test2 = onlyArm(test)"
   ]
  },
  {
   "cell_type": "code",
   "execution_count": 13,
   "metadata": {},
   "outputs": [
    {
     "name": "stdout",
     "output_type": "stream",
     "text": [
      "[[ 1.58761460e-02  1.36080489e-01]\n",
      " [-1.14199907e-01 -8.52903613e-05]\n",
      " [-6.12617396e-02 -9.93734524e-02]\n",
      " [-1.03218155e-02  1.94175765e-01]\n",
      " [ 1.67704701e-01  2.42115017e-02]\n",
      " [ 2.84953833e-01  2.04324722e-02]]\n"
     ]
    }
   ],
   "source": [
    "print(test2)"
   ]
  },
  {
   "cell_type": "code",
   "execution_count": 14,
   "metadata": {},
   "outputs": [],
   "source": [
    "def norm(arr):\n",
    "    maxx = arr.max(axis=0)\n",
    "    minn = arr.min(axis=0)\n",
    "    rank = maxx-minn\n",
    "    return (arr-minn)/rank\n",
    "    \n",
    "    "
   ]
  },
  {
   "cell_type": "code",
   "execution_count": 15,
   "metadata": {},
   "outputs": [
    {
     "data": {
      "text/plain": [
       "(650, 300, 25, 3)"
      ]
     },
     "execution_count": 15,
     "metadata": {},
     "output_type": "execute_result"
    }
   ],
   "source": [
    "X.shape"
   ]
  },
  {
   "cell_type": "code",
   "execution_count": 16,
   "metadata": {},
   "outputs": [
    {
     "name": "stderr",
     "output_type": "stream",
     "text": [
      "c:\\users\\user\\appdata\\local\\programs\\python\\python37\\lib\\site-packages\\ipykernel_launcher.py:5: RuntimeWarning: invalid value encountered in true_divide\n",
      "  \"\"\"\n"
     ]
    }
   ],
   "source": [
    "new_X = []\n",
    "for sample in X:\n",
    "    new_sample = []\n",
    "    for frame in sample:\n",
    "        new_sample.append ( (norm(onlyArm(frame)) ) )\n",
    "    new_X.append(np.array(new_sample))"
   ]
  },
  {
   "cell_type": "code",
   "execution_count": 17,
   "metadata": {},
   "outputs": [
    {
     "data": {
      "text/plain": [
       "(650, 300, 6, 2)"
      ]
     },
     "execution_count": 17,
     "metadata": {},
     "output_type": "execute_result"
    }
   ],
   "source": [
    "np.array(new_X).shape"
   ]
  },
  {
   "cell_type": "code",
   "execution_count": 18,
   "metadata": {},
   "outputs": [],
   "source": [
    "np.save(\"onlyarm_not_handwave.npy\",np.array(new_X) )"
   ]
  },
  {
   "cell_type": "code",
   "execution_count": 93,
   "metadata": {},
   "outputs": [],
   "source": [
    "import numpy as np\n",
    "import pylab as plt\n",
    "\n",
    "def new_plot(arr):\n",
    "\n",
    "\n",
    "\n",
    "\n",
    "    \n",
    "    l_arm =np.swapaxes( np.array([arr[0],arr[1],arr[2] ] )   ,0,1)\n",
    "    r_arm = np.swapaxes( np.array([arr[3],arr[4],arr[5]])    ,0,1)\n",
    "\n",
    "#     head = np.swapaxes(np.array([arr[3]]),0,1) \n",
    "\n",
    "    fig, ax = plt.subplots()\n",
    "    ax.axis([0, 1, 0, 1])\n",
    "#     ax.plot(body[0],body[2],'.-')\n",
    "#     ax.plot(l_leg[0],l_leg[2],'.-')\n",
    "#     ax.plot(r_leg[0],r_leg[2],'.-')\n",
    "    ax.plot(l_arm[0],l_arm[1],'.-')\n",
    "    ax.plot(r_arm[0],r_arm[1],'.-')\n",
    "#     ax.plot(l_hand[0],l_hand[2],'.')\n",
    "#     ax.plot(r_hand[0],r_hand[2],'.')\n",
    "#     ax.plot(head[0],head[2],'ro',markersize=15)\n",
    "    plt.show()\n",
    "    \n",
    "    \n",
    "    "
   ]
  },
  {
   "cell_type": "code",
   "execution_count": 94,
   "metadata": {},
   "outputs": [],
   "source": [
    "new_X = np.array(new_X)"
   ]
  },
  {
   "cell_type": "code",
   "execution_count": 97,
   "metadata": {},
   "outputs": [],
   "source": [
    "# for k in new_X:\n",
    "#     for c in k:\n",
    "#         new_plot(c)"
   ]
  }
 ],
 "metadata": {
  "kernelspec": {
   "display_name": "Python 3",
   "language": "python",
   "name": "python3"
  },
  "language_info": {
   "codemirror_mode": {
    "name": "ipython",
    "version": 3
   },
   "file_extension": ".py",
   "mimetype": "text/x-python",
   "name": "python",
   "nbconvert_exporter": "python",
   "pygments_lexer": "ipython3",
   "version": "3.7.6"
  }
 },
 "nbformat": 4,
 "nbformat_minor": 4
}
